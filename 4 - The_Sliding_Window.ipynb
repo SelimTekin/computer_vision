{
 "cells": [
  {
   "cell_type": "code",
   "execution_count": 3,
   "id": "d4b5dab4",
   "metadata": {},
   "outputs": [],
   "source": [
    "import numpy as np\n",
    "from itertools import product\n",
    "from skimage import draw, transform\n",
    "\n",
    "#def circle(size, val=None, r_shrink=0):\n",
    "#    circle = np.zeros([size[0] + 1, size[1] + 1]) # 0 matrisi oluşturduk\n",
    "#    rr, cc = draw.circle_perimeter( # daire çevre koordinatlarını oluşturuyoruz circle_perimeter -> daire çevresi\n",
    "#        size[0] // 2, size[1] // 2, # dairenin merkez koordinatları\n",
    "#        radius = size // 2, - r_shrink, # yarıçap\n",
    "#        shape = [size[0] + 1, size[1] + 1] # çıktı piksel koordinatlarının maksimum kapsamını belirleyen görüntü şekli \n",
    "#    )\n",
    "def circle(size, val=None, r_shrink=0):\n",
    "    circle = np.zeros([size[0]+1, size[1]+1])\n",
    "    rr, cc = draw.circle_perimeter(\n",
    "        size[0]//2, size[1]//2,\n",
    "        radius=size[0]//2 - r_shrink,\n",
    "        shape=[size[0]+1, size[1]+1],\n",
    "    )\n",
    "    if val is None:\n",
    "        circle[rr, cc] = np.random.uniform(size=circle.shape)[rr, cc]\n",
    "    else:\n",
    "        circle[rr, cc] = val\n",
    "    circle = transform.resize(circle, size, order=0) # resmi belirli bir boyuta uyacak şekilde yeniden boyutlandırdık\n",
    "    return circle\n",
    "\n",
    "def show_kernel(kernel, label=True, digits=None, text_size=28):\n",
    "    # çekirdeği biçimlendiriyoruz\n",
    "    kernel = np.array(kernel)\n",
    "    if digits is not None:\n",
    "        kernel = np.round(digits)\n",
    "    \n",
    "    # Plot kernel\n",
    "    cmap = plt.get_cmap('Blues_r')\n",
    "    plt.imshow(kernel, cmap=cmap)\n",
    "    rows, cols = kernel.shape\n",
    "    thresh = (kernel.max() + kernel.min()) // 2\n",
    "    \n",
    "    # opsiyonel olarak etiket değerleri ekle\n",
    "    if label:\n",
    "        for i, j in product(range(rows), range(cols)):\n",
    "            val = kernel[i, j]\n",
    "            color = cmap(0) if val > thresh else cmap(255) # kernel'deki bir koordinat thresh'ten büyükse rengi açık mavi değilse koyu\n",
    "            plt.text(j, i, val, color=color, size=text_size, horizontalalignment='center', verticalalignment='center')\n",
    "            plt.xticks([])\n",
    "            plt.yticks([])\n",
    "\n",
    "def show_extraction(\n",
    "    image,\n",
    "    kernel,\n",
    "    conv_stride=1,\n",
    "    conv_padding='valid',\n",
    "    activation='relu',\n",
    "    pool_size=2,\n",
    "    pool_stride=2,\n",
    "    pool_padding='same',\n",
    "    figsize=(10, 10),\n",
    "    subplot_shape=(2, 2),\n",
    "    ops=['Input', 'Filter', 'Detect', 'Condense'],\n",
    "    gamma=1.0):\n",
    "    \n",
    "    # katmanları oluştur\n",
    "    model = tf.keras.Sequential([\n",
    "        tf.keras.layers.Conv2D(\n",
    "            filters=1,\n",
    "            kernel_size=kernel.shape,\n",
    "            strides=conv_stride, # adımlar\n",
    "            padding=conv_padding,\n",
    "            use_bias=False,\n",
    "            input_shape=image.shape,\n",
    "        ),\n",
    "        tf.keras.layers.Activation(activation),\n",
    "        tf.keras.layers.MaxPool2D(\n",
    "            pool_size = pool_size,\n",
    "            strides = pool_stride,\n",
    "            padding = pool_padding,\n",
    "        ),\n",
    "    ])\n",
    "    layer_filter, layer_detect, layer_condense = model.layers\n",
    "    kernel = tf.reshape(kernel, [3, 3, 1, 1])\n",
    "    layer_filter.set_weights([kernel])\n",
    "    \n",
    "    # TF formatına dönüştür\n",
    "    image = tf.expand_dims(image, axis=0)\n",
    "    image = tf.image.convert_image_dtype(image, dtype=tf.float32)\n",
    "    \n",
    "    # Öznitelik(özellik) çıkarma\n",
    "    image_filter = layer_filter(image)\n",
    "    image_detect = layer_detect(image_filter)\n",
    "    image_condense = layer_condense(image_detect)\n",
    "    \n",
    "    images = {}\n",
    "    \n",
    "    if 'Input' in ops:\n",
    "        images.update({'Input': (image, 1.0)})\n",
    "    if 'Filter' in ops:\n",
    "        images.update({'Filter': (image_filter, 1.0)})\n",
    "    if 'Detect' in ops:\n",
    "        images.update({'Detect': (image_detect, gamma)})\n",
    "    if 'Condense' in ops:\n",
    "        images.update({'Condense': (image_condense, gamma)})\n",
    "        \n",
    "    # Plot\n",
    "    plt.figure(figsize=figsize)\n",
    "    for i, title in enumerate(ops):\n",
    "        image, gamma = images[title]\n",
    "        plt.subplot(*subplot_shape, i+1)\n",
    "        plt.imshow(tf.image.adjust_gamma(tf.squeeze(image), gamma))\n",
    "        plt.axis('off')\n",
    "        plt.title(title)"
   ]
  },
  {
   "cell_type": "markdown",
   "id": "ffc57ae4",
   "metadata": {},
   "source": [
    "Önceki dosyalarda görüntüden özellik çıkarma işlemini gerçekleştiren 3 işlemden bahsetmiştik:\n",
    "1. Evrişim katmanı ile filtrele\n",
    "2. ReLU activasyonuyla algıla\n",
    "3. Maksimum havuzlama katmanı ile yoğunlaştır"
   ]
  },
  {
   "cell_type": "markdown",
   "id": "fa463b19",
   "metadata": {},
   "source": [
    "Evrişim ve havuzlama operasyonları ortak bir özelliği paylaşır: Her ikisi de kayan bir pencere üzerinden gerçekleştirilir.<br>\n",
    "Evrişim ile bu pencere çekirdeğin boyutları tarafından verilir. Parametre kernel_size<br>\n",
    "Pooling ile pool_size tarafından verilen pooling penceresidir."
   ]
  },
  {
   "cell_type": "markdown",
   "id": "8ca72b60",
   "metadata": {},
   "source": [
    "Evrişim ve pooling katmanlarını etkileyen 2 ek parametre vardır. Bunlar, pencerenin adımları(strides) ve görüntü kenarlarında dolgu(padding) kullanılıp kullanılmayacağıdır.<br>\n",
    "strides parametresi, pencerenin her adımda ne kadar hareket etmesi gerektiğini söyler. padding parametresi, girişin kenarlarındaki pikselleri nasıl ele alacağımızı açıklar"
   ]
  },
  {
   "cell_type": "code",
   "execution_count": 1,
   "id": "7c6c4425",
   "metadata": {},
   "outputs": [],
   "source": [
    "from tensorflow import keras\n",
    "from tensorflow.keras import layers\n",
    "\n",
    "model = keras.Sequential([\n",
    "    layers.Conv2D(filters=64,\n",
    "                  kernel_size=3,\n",
    "                 strides=\"1 - Convolutional_Classifier.ipynb\",\n",
    "                 padding='same',\n",
    "                 activation='relu'),\n",
    "    layers.MaxPool2D(pool_size=2,\n",
    "                    strides=1,\n",
    "                    padding='same')\n",
    "])"
   ]
  },
  {
   "cell_type": "markdown",
   "id": "ea90bf79",
   "metadata": {},
   "source": [
    "# Stride\n",
    "\n",
    "Pencerenin her adımda hareket ettiği mesafeye adım denir. Adımı görüntünün her iki boyutunda da belirtmemiz gerekiyor: Biri soldan sağa, diğeri yukarıdan aşağıya hareket için. Bu animasyon, her adımda 2 piksellik bir hareket olan strides=(2, 2) gösterir.<br><br>\n",
    "\n",
    "Adımın etkisi nedir ?<br>\n",
    "Her iki yöndeki adım, 1'den büyük olduğunda kayan pencere her adımda girişteki bazı pikselleri atlayacaktır.<br><br>\n",
    "\n",
    "Sınıflandırma için yüksek kaliteli öznitelikler kullanmak istediğimizden,evrişimli katmanlar çoğunlukla strides=(1, 1) olacaktır. Adımı artırmak, özetimizdeki potansiyel olarak değerli bilgileri kaçırdığımız anlamına gelir. Maksimum havuzlama katmanları hemen hemen her zaman  (2, 2) veya (3, 3) gibi 1'den büyük adım sayısına sahip olacaktır, ancak pencerenin kendisinden daha büyük olmayacaktır.<br><br>\n",
    "Son olarak adımların değeri her iki yönde de aynı sayı olduğunda,yalnızca bu sayıyı ayarlamamız gerektiğini unutmayalım; örneğin strides=(2, 2) yerine parametre için strides=2 kullanabiliriz."
   ]
  },
  {
   "cell_type": "markdown",
   "id": "c15d3ac3",
   "metadata": {},
   "source": [
    "# Padding\n",
    "\n",
    "Tamamen giriş görüntüsünün içinde kalmak,pencerenin girşteki diğer tüm piksellerde olduğu gibi bu sınır piksellerinin üzerine asla tam olarak oturmayacağı anlamına gelir.<br>\n",
    "Evrişimin bu sınır değerlerle ne yaptığı, padding parametresi tarafındann belirlenir.<br><br>\n",
    "\n",
    "TensorFlow'da 2 seçeneğiniz vardır: padding='same' ve padding='valid'<br><br>\n",
    "\n",
    "padding='valid' yaptığımızda, evrişim penceresi tamamen girdinin içide kalacaktır.Dezavantajı, çıktının küçülmesi (piksel kaybetmesi) ve daha büyük kernel'lar için daha fazla küçülmesidir.Bu, özellikle girdilerin boyutu küçük olduğunda, ağın içerebileceği katman sayısını sınırlayacaktır.<br><br>\n",
    "\n",
    "Alternatif padding='same' kullanmaktır. Buradaki hile, çıktının boyutunun girdinin boyutuyla aynı yapmak için yeterli 0'ları kullanarak, girdiyi sınırları etrafında 0'larla doldurmaktır. Ancak bu, sınırlardaki piksellerin etkisini seyreltme etkisine sahip olabilir. "
   ]
  },
  {
   "cell_type": "code",
   "execution_count": 5,
   "id": "e316652e",
   "metadata": {},
   "outputs": [
    {
     "data": {
      "image/png": "[encoded data removed]",
      "text/plain": [
       "<Figure size 432x288 with 1 Axes>"
      ]
     },
     "metadata": {},
     "output_type": "display_data"
    }
   ],
   "source": [
    "import tensorflow as tf\n",
    "import matplotlib.pyplot as plt\n",
    "\n",
    "plt.rc('figure', autolayout=True)\n",
    "plt.rc('axes', labelweight='bold', labelsize='large', titleweight='bold', titlesize=18, titlepad=10)\n",
    "plt.rc('image', cmap='magma')\n",
    "\n",
    "image = circle([64, 64], val=1.0, r_shrink=3)\n",
    "image = tf.reshape(image, [*image.shape, 1])\n",
    "\n",
    "# Bottom sobel\n",
    "kernel = tf.constant(\n",
    "    [[-1, -2, -1],\n",
    "        [0, 0, 0],\n",
    "        [1, 2, 1]]\n",
    ")\n",
    "\n",
    "show_kernel(kernel)"
   ]
  },
  {
   "cell_type": "markdown",
   "id": "86f38984",
   "metadata": {},
   "source": [
    "VGG mimarisi oldukça basittir. 1'lik adımlarla evrişim ve 2x2 pencereli 2'lik adımlarla maksimum havuzlama kullanır.<br>\n",
    "Visiontools yardımcı programı komut dosyasına bize tüm adımları gösterecek bir işlev ekledik."
   ]
  },
  {
   "cell_type": "code",
   "execution_count": 6,
   "id": "61d5fb4e",
   "metadata": {
    "scrolled": false
   },
   "outputs": [
    {
     "data": {
      "image/png": "[encoded data removed]",
      "text/plain": [
       "<Figure size 1008x432 with 4 Axes>"
      ]
     },
     "metadata": {
      "needs_background": "light"
     },
     "output_type": "display_data"
    }
   ],
   "source": [
    "show_extraction(\n",
    "    image, kernel,\n",
    "    \n",
    "    # Window parametreleri\n",
    "    conv_stride=1,\n",
    "    pool_size=2,\n",
    "    pool_stride=2,\n",
    "    \n",
    "    subplot_shape=(1, 4),\n",
    "    figsize=(14, 6)\n",
    ")"
   ]
  },
  {
   "cell_type": "markdown",
   "id": "0763eec3",
   "metadata": {},
   "source": [
    "Çekirdek yatay çizgileri algılamak için tasarlandı ve ortaya çıkan özellik haritasında girdinin daha yatay kısımlarının en büyük aktivasyonla sonuçlandıuğını görebiliriz."
   ]
  },
  {
   "cell_type": "code",
   "execution_count": 7,
   "id": "7151700b",
   "metadata": {},
   "outputs": [
    {
     "data": {
      "image/png": "[encoded data removed]",
      "text/plain": [
       "<Figure size 1008x432 with 4 Axes>"
      ]
     },
     "metadata": {
      "needs_background": "light"
     },
     "output_type": "display_data"
    }
   ],
   "source": [
    "show_extraction(\n",
    "    image, kernel,\n",
    "    \n",
    "    # Window parametreleri\n",
    "    conv_stride=3,\n",
    "    pool_size=2,\n",
    "    pool_stride=2,\n",
    "    \n",
    "    subplot_shape=(1, 4),\n",
    "    figsize=(14, 6),\n",
    ")"
   ]
  },
  {
   "cell_type": "markdown",
   "id": "7c5c37a7",
   "metadata": {},
   "source": [
    "conv_stride parametresinin değerinin 3 olması 1 olmasına göre kaliteyi düşürüyor.1 piksel genişliğinde oldukça ayrıntılıdır.<br><br>\n",
    "\n",
    "Not: ResNet50 modeli, ilk katmanınnda 2 adımlı 7x7'lik çekirdek kullanır.Girdiden çok fazla feda etmeden büyük ölçekli özelliklerin üretimini hızlandırıyor."
   ]
  },
  {
   "cell_type": "markdown",
   "id": "f2cf5216",
   "metadata": {},
   "source": [
    "Özetle<br><br>\n",
    "\n",
    "Hem evrişim hem de havuzlama için ortak olan karakteristik bir hesaplama yaptık. Bunlar the sliding window(kayan pencere) ve bu katmanlardaki davranışını etkileyen parametrelerdir. Bu pencereli hesaplama tarzı, evrişimli ağların karakteristik özelliklerinin çoğuna katkıda bulunur ve işlevlerinin önemli bir parçasıdır."
   ]
  },
  {
   "cell_type": "markdown",
   "id": "21e6ca9e",
   "metadata": {},
   "source": [
    "# The Receptive Field (Alıcı Alan)\n",
    "Bazı nöronlardan gelen tüm bağlantıları geriye doğru takip edin, sizi girdi nöronuna ulaştıracaktır.Bir nöronun bağlı olduğu tüm giriş pikselleri, o nöronun alıcı alanıdır.Alıcı alan, bir nöronun girdi görüntüsünün hangi bölümlerinden bilgi aldığını söyler."
   ]
  },
  {
   "cell_type": "markdown",
   "id": "6f2244f0",
   "metadata": {},
   "source": [
    "# (Opsiyonel) Tek Boyutlu Evrişim\n",
    "Evrişimli ağların yalnızca (iki boyutlu) görüntülerde değil, aynı zamanda zaman serisi (tek boyutlu) ve video (üç boyutlu) gibi şeylerde de yararlı olduğu ortaya çıktı.\n",
    "\n",
    "Evrişimli ağların (iki boyutlu) görüntülerden öznitelikleri çıkarmayı nasıl öğrenebileceğini gördük. Convnet'lerin zaman serisi (tek boyutlu) ve video (üç boyutlu) gibi şeylerden özellikler çıkarmayı da öğrenebileceği ortaya çıktı.\n",
    "\n",
    "Bir zaman serisinde evrişim nasıl olacağına bir bakalım.\n",
    "\n",
    "Kullanacağımız zaman serisi Google Trendler'den. 25 Ocak 2015 ile 15 Ocak 2020 arasındaki haftalar için \"makine öğrenimi\" arama teriminin popülerliğini ölçer."
   ]
  },
  {
   "cell_type": "code",
   "execution_count": 12,
   "id": "53ae933e",
   "metadata": {},
   "outputs": [
    {
     "data": {
      "text/plain": [
       "<AxesSubplot:xlabel='Week'>"
      ]
     },
     "execution_count": 12,
     "metadata": {},
     "output_type": "execute_result"
    },
    {
     "data": {
      "image/png": "[encoded data removed]",
      "text/plain": [
       "<Figure size 432x288 with 1 Axes>"
      ]
     },
     "metadata": {
      "needs_background": "light"
     },
     "output_type": "display_data"
    }
   ],
   "source": [
    "import pandas as pd\n",
    "\n",
    "# Zaman serilerini bir pandas Dataframe'i olarak yükleyelim\n",
    "machinelearning = pd.read_csv(\n",
    "    'datas/machinelearning.csv',\n",
    "    parse_dates=['Week'],\n",
    "    index_col='Week',\n",
    ")\n",
    "\n",
    "machine_learning.plot()"
   ]
  },
  {
   "cell_type": "markdown",
   "id": "b5ff4f01",
   "metadata": {},
   "source": [
    "Görüntülerimiz 2 boyutlu olduğu için kernel'larımız da 2 boyutluydu.Bir zaman serisi 1 boyutludur dolayısıyla kernel'lar da 1  boyutlu olmalıdır.İşte bazı zaman serisi verilerinde kullanılan bazı kernel'lar:"
   ]
  },
  {
   "cell_type": "code",
   "execution_count": 13,
   "id": "3612f36f",
   "metadata": {},
   "outputs": [],
   "source": [
    "detrend = tf.constant([-1, 1], dtype=tf.float32)\n",
    "average = tf.constant([0.2, 0.2, 0.2, 0.2, 0.2], dtype=tf.float32)\n",
    "detrend = tf.constant([-3, -6, -5, 3, 21, 46, 67, 74, 67, 46, 32, 3, -5, -6, -3], dtype=tf.float32)"
   ]
  },
  {
   "cell_type": "markdown",
   "id": "877242ad",
   "metadata": {},
   "source": [
    "Bir dizideki evrişim, bir görüntüdeki evrişim gibi çalışır. Aradaki fark, bir dizideki kayan pencerenin, bir görüntüdeki iki yön yerine yalnızca bir yöne - soldan sağa - hareket etmesidir. Ve daha önce olduğu gibi, seçilen özellikler çekirdekteki sayıların örüntüsüne bağlıdır."
   ]
  },
  {
   "cell_type": "code",
   "execution_count": 14,
   "id": "35222d3d",
   "metadata": {},
   "outputs": [
    {
     "data": {
      "text/plain": [
       "<AxesSubplot:>"
      ]
     },
     "execution_count": 14,
     "metadata": {},
     "output_type": "execute_result"
    },
    {
     "data": {
      "image/png": "[encoded data removed]",
      "text/plain": [
       "<Figure size 432x288 with 1 Axes>"
      ]
     },
     "metadata": {
      "needs_background": "light"
     },
     "output_type": "display_data"
    }
   ],
   "source": [
    "kernel = detrend\n",
    "#kernel = average\n",
    "#kernel = spencer        # istediğinizi seçebilirsiniz\n",
    "\n",
    "# Reformat for TensorFlow\n",
    "ts_data = machinelearning.to_numpy()\n",
    "ts_data = tf.expand_dims(ts_data, axis=0)\n",
    "ts_data = tf.cast(ts_data, dtype=tf.float32)\n",
    "kern = tf.reshape(kernel, shape=(*kernel.shape, 1, 1))\n",
    "\n",
    "ts_filter = tf.nn.conv1d(\n",
    "    input=ts_data,\n",
    "    filters=kern,\n",
    "    stride=1,\n",
    "    padding='VALID',\n",
    ")\n",
    "\n",
    "# Pandas serisi olarak formatladık\n",
    "machinelearning_filtered = pd.Series(tf.squeeze(ts_filter).numpy())\n",
    "\n",
    "machinelearning_filtered.plot()"
   ]
  },
  {
   "cell_type": "markdown",
   "id": "862d4e11",
   "metadata": {},
   "source": [
    "Aslında, detrend kernel serideki filtrelerken, ortalama ve spencer, serideki düşük frekanslı bileşenleri filtreleyen \"yumuşak\"'tır.<br><br>\n",
    "\n",
    "Arama terimlerinin gelecekteki popülaritesini tahmin etmekle ilgileniyorsanız, bunun gibi zaman serilerinde bir toplantıyı eğitebilirsiniz. Bu dizilerdeki hangi özelliklerin tahmin için en bilgilendirici olduğunu öğrenmeye çalışacaktı.\n",
    "\n",
    "Konvnetler bu tür problemler için genellikle tek başına en iyi seçim olmasa da, özellik çıkarma yetenekleri nedeniyle genellikle diğer modellere dahil edilirler.<br><br>\n",
    "\n"
   ]
  }
 ],
 "metadata": {
  "kernelspec": {
   "display_name": "Python 3 (ipykernel)",
   "language": "python",
   "name": "python3"
  },
  "language_info": {
   "codemirror_mode": {
    "name": "ipython",
    "version": 3
   },
   "file_extension": ".py",
   "mimetype": "text/x-python",
   "name": "python",
   "nbconvert_exporter": "python",
   "pygments_lexer": "ipython3",
   "version": "3.9.12"
  }
 },
 "nbformat": 4,
 "nbformat_minor": 5
}
